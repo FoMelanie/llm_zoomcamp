{
 "cells": [
  {
   "cell_type": "code",
   "execution_count": null,
   "metadata": {},
   "outputs": [],
   "source": [
    "import openai\n",
    "import yaml"
   ]
  },
  {
   "cell_type": "code",
   "execution_count": null,
   "metadata": {},
   "outputs": [],
   "source": [
    "openai.api_base = \"http://localhost:11434/v1\""
   ]
  },
  {
   "cell_type": "code",
   "execution_count": null,
   "metadata": {},
   "outputs": [],
   "source": [
    "\n",
    "# Load openai key from yaml file\n",
    "with open('../api_keys.yml', 'r') as file:\n",
    "    # Load the data from the file\n",
    "    data = yaml.safe_load(file)\n",
    "    \n",
    "# Get the API key\n",
    "openai_api_key = data['OPENAI_API_KEY']\n",
    "\n",
    "openai.api_key = openai_api_key"
   ]
  },
  {
   "cell_type": "code",
   "execution_count": null,
   "metadata": {},
   "outputs": [],
   "source": [
    "print(openai_api_key)"
   ]
  },
  {
   "cell_type": "code",
   "execution_count": null,
   "metadata": {},
   "outputs": [],
   "source": [
    "\n",
    "# Définir l'URL de l'API de votre modèle de langage\n",
    "openai.api_base = \"http://localhost:11434/v1\"\n",
    "\n",
    "# Définir la clé d'API d'OpenAI (si nécessaire)\n",
    "# openai.api_key = \"VOTRE_CLÉ_API\"\n",
    "\n",
    "# Définir le prompt\n",
    "prompt = \"What's the formula for energy?\"\n",
    "\n",
    "# Définir les paramètres de la requête\n",
    "temperature = 0.0\n",
    "max_tokens = 100\n",
    "top_p = 1.0\n",
    "frequency_penalty = 0.0\n",
    "presence_penalty = 0.0\n",
    "\n",
    "# Envoyer la requête à l'API de votre modèle de langage\n",
    "response = openai.Completion.create(\n",
    "    engine=\"gemma:2b\",\n",
    "    prompt=prompt,\n",
    "    temperature=temperature,\n",
    "    max_tokens=max_tokens,\n",
    "    top_p=top_p,\n",
    "    frequency_penalty=frequency_penalty,\n",
    "    presence_penalty=presence_penalty\n",
    ")\n",
    "\n",
    "# Afficher la réponse générée par le modèle de langage\n",
    "print(response.choices[0].text.strip())\n"
   ]
  }
 ],
 "metadata": {
  "language_info": {
   "name": "python"
  }
 },
 "nbformat": 4,
 "nbformat_minor": 2
}
